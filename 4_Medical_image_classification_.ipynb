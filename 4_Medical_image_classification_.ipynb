{
  "nbformat": 4,
  "nbformat_minor": 0,
  "metadata": {
    "colab": {
      "name": "4 Medical image classification .ipynb",
      "version": "0.3.2",
      "provenance": [],
      "include_colab_link": true
    },
    "kernelspec": {
      "name": "python3",
      "display_name": "Python 3"
    },
    "accelerator": "GPU"
  },
  "cells": [
    {
      "cell_type": "markdown",
      "metadata": {
        "id": "view-in-github",
        "colab_type": "text"
      },
      "source": [
        "<a href=\"https://colab.research.google.com/github/rajagopalmotivate1/AILab/blob/master/4_Medical_image_classification_.ipynb\" target=\"_parent\"><img src=\"https://colab.research.google.com/assets/colab-badge.svg\" alt=\"Open In Colab\"/></a>"
      ]
    },
    {
      "metadata": {
        "id": "0H_LQUeDDeUp",
        "colab_type": "code",
        "colab": {}
      },
      "cell_type": "code",
      "source": [
        "import keras\n",
        "import numpy as np\n",
        "import matplotlib.pyplot as plt"
      ],
      "execution_count": 0,
      "outputs": []
    },
    {
      "metadata": {
        "id": "YmZLsNtKDg8j",
        "colab_type": "code",
        "colab": {}
      },
      "cell_type": "code",
      "source": [
        "from urllib.request import urlopen\n",
        "\n",
        "urls = {'pneumothorax_test':'https://www.dropbox.com/s/x74ykyivipwnozs/pneumothorax_test.h5?dl=1',\n",
        "        'pneumothorax_train':'https://www.dropbox.com/s/pnwf67qzztd1slc/pneumothorax_train.h5?dl=1'}\n",
        "\n",
        "for (name,url) in urls.items():\n",
        "        print('Downloading '+name+'...')\n",
        "        u = urlopen(url)\n",
        "        data = u.read()\n",
        "        u.close()\n",
        "\n",
        "        with open(name+'.h5', \"wb\") as f :\n",
        "            f.write(data)\n",
        "print('Files have been downloaded.')"
      ],
      "execution_count": 0,
      "outputs": []
    },
    {
      "metadata": {
        "id": "xU6qpip5DpL7",
        "colab_type": "code",
        "colab": {}
      },
      "cell_type": "code",
      "source": [
        "import h5py as h5\n",
        "\n",
        "X_trainDownloaded = h5.File('pneumothorax_train.h5')['image'][:]\n",
        "Y_trainDownloaded = h5.File('pneumothorax_train.h5')['label'][:]\n",
        "\n",
        "X_test = h5.File('pneumothorax_test.h5')['image'][:]\n",
        "Y_test = h5.File('pneumothorax_test.h5')['label'][:]"
      ],
      "execution_count": 0,
      "outputs": []
    },
    {
      "metadata": {
        "id": "8f-fxaeSfK0y",
        "colab_type": "text"
      },
      "cell_type": "markdown",
      "source": [
        "#Set the no of examples  "
      ]
    },
    {
      "metadata": {
        "id": "OjUw0zXvfnUV",
        "colab_type": "code",
        "colab": {}
      },
      "cell_type": "code",
      "source": [
        "print('no of examples in the downloaed dataset = ' + str(X_trainDownloaded.shape[0]))"
      ],
      "execution_count": 0,
      "outputs": []
    },
    {
      "metadata": {
        "id": "YeIxrF6KfdKi",
        "colab_type": "code",
        "colab": {}
      },
      "cell_type": "code",
      "source": [
        "noofexamples = 100"
      ],
      "execution_count": 0,
      "outputs": []
    },
    {
      "metadata": {
        "id": "ljXfIzRiXxK3",
        "colab_type": "code",
        "colab": {}
      },
      "cell_type": "code",
      "source": [
        "X_train = X_trainDownloaded[0:noofexamples]\n",
        "Y_train = Y_trainDownloaded[0:noofexamples]"
      ],
      "execution_count": 0,
      "outputs": []
    },
    {
      "metadata": {
        "id": "T4oYR7QffVa7",
        "colab_type": "code",
        "colab": {}
      },
      "cell_type": "code",
      "source": [
        "print('no of examples = ' + str(X_train.shape[0]))"
      ],
      "execution_count": 0,
      "outputs": []
    },
    {
      "metadata": {
        "id": "rGu81TDmDpdH",
        "colab_type": "code",
        "colab": {}
      },
      "cell_type": "code",
      "source": [
        "\n",
        "num_train=X_train.shape[0]\n",
        "num_test=X_test.shape[0]\n",
        "X_train.shape"
      ],
      "execution_count": 0,
      "outputs": []
    },
    {
      "metadata": {
        "id": "bTkADR8hDzDY",
        "colab_type": "code",
        "colab": {}
      },
      "cell_type": "code",
      "source": [
        "from keras.models import Model,Sequential\n",
        "from keras.applications.mobilenet import MobileNet, preprocess_input\n",
        "from keras.layers.convolutional import Conv2D,SeparableConv2D\n",
        "from keras.layers.convolutional import MaxPooling2D\n",
        "from keras.layers import Flatten,GlobalAveragePooling2D\n",
        "from keras.layers import Dense,Input\n",
        "from keras.layers import Activation\n",
        "from keras.layers import Dropout\n",
        "from keras.optimizers import SGD,Adadelta\n",
        "from keras.optimizers import Adagrad\n",
        "from keras.utils import np_utils\n",
        "from keras.preprocessing.image import ImageDataGenerator\n",
        "from keras import backend as K\n",
        "import tensorflow as tf"
      ],
      "execution_count": 0,
      "outputs": []
    },
    {
      "metadata": {
        "id": "ViUTy3x-D1tn",
        "colab_type": "code",
        "colab": {}
      },
      "cell_type": "code",
      "source": [
        "seed=1337\n",
        "np.random.seed(seed)"
      ],
      "execution_count": 0,
      "outputs": []
    },
    {
      "metadata": {
        "id": "QRJDIebpD4sI",
        "colab_type": "code",
        "colab": {}
      },
      "cell_type": "code",
      "source": [
        "X_train = (X_train/255).astype('float32')\n",
        "X_test = (X_test/255).astype('float32')\n",
        "Y_train = Y_train.astype('float32')\n",
        "Y_test = Y_test.astype('float32')\n",
        "num_class=2\n",
        "X_train.shape[1:]"
      ],
      "execution_count": 0,
      "outputs": []
    },
    {
      "metadata": {
        "id": "Iqcn4RjtD9ZY",
        "colab_type": "code",
        "colab": {}
      },
      "cell_type": "code",
      "source": [
        "inputs=Input(shape=(256,256,1))\n",
        "  \n",
        "x=Conv2D(32, (5,5), padding='same',kernel_initializer='random_uniform', activation='relu')(inputs)\n",
        "y=Conv2D(32, (5,5), padding='same', kernel_initializer='random_uniform',activation='relu')(x)\n",
        "z=MaxPooling2D(pool_size=(2,2))(keras.layers.add([x,y]))\n",
        "  \n",
        "x=Conv2D(64, (5,5), padding='same',kernel_initializer='random_uniform', activation='relu')(z)\n",
        "y=Conv2D(64, (5,5), padding='same',kernel_initializer='random_uniform', activation='relu')(x)\n",
        "z=MaxPooling2D(pool_size=(2,2))(keras.layers.add([x,y]))\n",
        "  \n",
        "x=SeparableConv2D(128, (5,5), padding='same',kernel_initializer='random_uniform', activation='relu')(z)\n",
        "y=SeparableConv2D(128, (5,5), padding='same',kernel_initializer='random_uniform', activation='relu')(x)\n",
        "z=MaxPooling2D(pool_size=(2,2))(keras.layers.add([x,y]))\n",
        "  \n",
        "x=Conv2D(256, (3,3), padding='same',kernel_initializer='random_uniform', activation='relu')(z)\n",
        "y=Conv2D(256, (3,3), padding='same',kernel_initializer='random_uniform', activation='relu')(x)\n",
        "y=Conv2D(256, (3,3), padding='same',kernel_initializer='random_uniform', activation='relu')(y)\n",
        "z=MaxPooling2D(pool_size=(2,2))(keras.layers.add([x,y]))\n",
        "\n",
        "z=GlobalAveragePooling2D()(z)\n",
        "\n",
        "x=Dense(64,activation='relu',)(z)\n",
        "x=Dense(2,activation='sigmoid',kernel_initializer='random_uniform')(x)\n",
        "\n",
        "model=Model(inputs = inputs, outputs = x)\n",
        "#step 2: Learning target(computiong the loss using the entropy function\n",
        "sgd = SGD(lr=0.06, decay=1e-6, momentum=0.9, nesterov=True)\n",
        "\n",
        "adagrad = Adagrad(lr=0.05, epsilon=1e-08)\n",
        "opt = Adadelta(lr=1.0, rho=0.95, epsilon=0.0001, decay=0.000001)\n",
        "model.compile(loss='binary_crossentropy',optimizer='adam',metrics=['accuracy'])\n"
      ],
      "execution_count": 0,
      "outputs": []
    },
    {
      "metadata": {
        "id": "A9NkOjIxD-fc",
        "colab_type": "code",
        "colab": {}
      },
      "cell_type": "code",
      "source": [
        "\n",
        "print ('Training Start....')\n",
        "#reset_weights(model)\n",
        "training = model.fit(X_train,Y_train, batch_size=90,epochs=20,verbose=1, validation_data=(X_test, Y_test),shuffle=False)"
      ],
      "execution_count": 0,
      "outputs": []
    },
    {
      "metadata": {
        "id": "-jvg3UOUERla",
        "colab_type": "code",
        "colab": {}
      },
      "cell_type": "code",
      "source": [
        ""
      ],
      "execution_count": 0,
      "outputs": []
    },
    {
      "metadata": {
        "id": "ZsBYxir-ER-C",
        "colab_type": "code",
        "colab": {}
      },
      "cell_type": "code",
      "source": [
        "score = model.evaluate(X_test,Y_test,verbose=1)\n",
        "print(\"CNN Error: %.2f%%\" % (100-score[1]*100))\n",
        "'CNN Accuracy: %.2f%%' % (score[1]*100)"
      ],
      "execution_count": 0,
      "outputs": []
    },
    {
      "metadata": {
        "id": "ncyS-i_9ZnUs",
        "colab_type": "code",
        "colab": {}
      },
      "cell_type": "code",
      "source": [
        "import matplotlib.pyplot as plt\n",
        "\n",
        "plt.plot(training.history['acc'])\n",
        "\n",
        "plt.plot(training.history['val_acc'])\n",
        "plt.title('Model accuracy')\n",
        "plt.ylabel('Accuracy')\n",
        "plt.xlabel('Epoch')\n",
        "plt.legend(['Training accuracy', 'Validation accuracy'], loc='upper left')\n",
        "\n",
        "plt.show()"
      ],
      "execution_count": 0,
      "outputs": []
    },
    {
      "metadata": {
        "id": "WWDd4JXyZsfP",
        "colab_type": "code",
        "colab": {}
      },
      "cell_type": "code",
      "source": [
        "import matplotlib.pyplot as plt\n",
        "\n",
        "plt.plot(training.history['loss'])\n",
        "\n",
        "plt.plot(training.history['val_loss'])\n",
        "plt.title('Model accuracy')\n",
        "plt.ylabel('Accuracy')\n",
        "plt.xlabel('Epoch')\n",
        "plt.legend(['Training loss', 'Validation loss'], loc='upper left')\n",
        "\n",
        "plt.show()"
      ],
      "execution_count": 0,
      "outputs": []
    },
    {
      "metadata": {
        "id": "fNWvrr8GEUdJ",
        "colab_type": "code",
        "colab": {}
      },
      "cell_type": "code",
      "source": [
        "print( 'Predicted class is ' + str(np.argmax(Y_test[1200])))\n",
        "test=X_test[1200]\n",
        "test=test.reshape(1,256,256,1)\n",
        "\n",
        "print('Ground truth = ')\n",
        "print(Y_test[1200])\n",
        "\n",
        "print('Predicted class = ')\n",
        "model.predict(test)\n",
        "\n"
      ],
      "execution_count": 0,
      "outputs": []
    }
  ]
}