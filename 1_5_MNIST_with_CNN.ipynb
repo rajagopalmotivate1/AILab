{
  "nbformat": 4,
  "nbformat_minor": 0,
  "metadata": {
    "colab": {
      "name": "1_5 MNIST with CNN.ipynb",
      "version": "0.3.2",
      "provenance": [],
      "include_colab_link": true
    },
    "kernelspec": {
      "name": "python3",
      "display_name": "Python 3"
    },
    "accelerator": "GPU"
  },
  "cells": [
    {
      "cell_type": "markdown",
      "metadata": {
        "id": "view-in-github",
        "colab_type": "text"
      },
      "source": [
        "<a href=\"https://colab.research.google.com/github/rajagopalmotivate1/AILab/blob/master/1_5_MNIST_with_CNN.ipynb\" target=\"_parent\"><img src=\"https://colab.research.google.com/assets/colab-badge.svg\" alt=\"Open In Colab\"/></a>"
      ]
    },
    {
      "metadata": {
        "id": "kZV7j5JuLxYy",
        "colab_type": "code",
        "colab": {}
      },
      "cell_type": "code",
      "source": [
        ""
      ],
      "execution_count": 0,
      "outputs": []
    },
    {
      "metadata": {
        "id": "GIZQID6QMIeG",
        "colab_type": "code",
        "colab": {}
      },
      "cell_type": "code",
      "source": [
        "from keras import  layers\n",
        "from keras import models\n",
        "from keras.datasets import mnist\n",
        "from keras import  utils\n"
      ],
      "execution_count": 0,
      "outputs": []
    },
    {
      "metadata": {
        "id": "q0-JkF57MlRh",
        "colab_type": "code",
        "colab": {}
      },
      "cell_type": "code",
      "source": [
        "model = models.Sequential()\n",
        "layer1c = layers.Conv2D(32, (3,3), activation='relu', input_shape=(28,28,1) )\n",
        "layer1m = layers.MaxPooling2D(pool_size=(2,2), strides=2)\n",
        "layer2c = layers.Conv2D(64, (3,3), activation='relu')\n",
        "layer2m = layers.MaxPooling2D(2,2)\n",
        "\n",
        "model.add(layer1c)\n",
        "model.add(layer1m)\n",
        "model.add(layer2c)\n",
        "model.add(layer2m)\n",
        "\n",
        "layerFlatten = layers.Flatten()\n",
        "layerd1 = layers.Dense(64, activation='relu')\n",
        "layerd2 = layers.Dense(10, activation='softmax' )\n",
        "\n",
        "model.add( layerFlatten )\n",
        "model.add( layerd1 )\n",
        "model.add( layerd2 )\n",
        "model.summary()"
      ],
      "execution_count": 0,
      "outputs": []
    },
    {
      "metadata": {
        "id": "dLMao3KXNM3v",
        "colab_type": "code",
        "colab": {}
      },
      "cell_type": "code",
      "source": [
        "from keras.utils import plot_model\n",
        "from IPython.display import Image\n",
        "\n",
        "plot_model(model, show_shapes=True, show_layer_names=True, to_file='my1stcnnmodel.png')\n",
        "Image(retina=True, filename='my1stcnnmodel.png')"
      ],
      "execution_count": 0,
      "outputs": []
    },
    {
      "metadata": {
        "id": "CkBMs6OJMolc",
        "colab_type": "code",
        "colab": {}
      },
      "cell_type": "code",
      "source": [
        "\n",
        "(trainX, trainY), (testX, testY) = mnist.load_data()\n",
        "\n",
        "print(\"No of Training samples = \" + str(len(trainX)) )\n",
        "print(\"No of Test samples = \" + str(len(testX)) )\n",
        "\n",
        "trainSetSize = len(trainX)\n",
        "testSetSize = len(testX)\n",
        "\n",
        "trainX = trainX[0:trainSetSize]\n",
        "trainY = trainY[0:trainSetSize]\n",
        "\n",
        "testX = testX[0:testSetSize]\n",
        "testY = testY[0:testSetSize]\n",
        "\n",
        "\n",
        "trainX = trainX.astype('float') * 1 /255\n",
        "testX = testX.astype('float') * 1 /255\n",
        "\n",
        "print( \"Shape of trainX = \" + str(trainX.shape) )\n",
        "\n",
        "\n",
        "trainXready = trainX.reshape((trainSetSize, 28, 28, 1))\n",
        "testXready = testX.reshape((testSetSize, 28, 28, 1))\n",
        "\n",
        "print( \"Shape of trainXready = \" + str(trainXready.shape) )\n",
        "\n",
        "\n",
        "trainYready = utils.to_categorical(trainY)\n",
        "testYready = utils.to_categorical(testY)\n"
      ],
      "execution_count": 0,
      "outputs": []
    },
    {
      "metadata": {
        "id": "szhjl20GMth3",
        "colab_type": "code",
        "colab": {}
      },
      "cell_type": "code",
      "source": [
        "\n",
        "model.compile( optimizer='rmsprop', loss='categorical_crossentropy', metrics=['accuracy'] )\n",
        "\n",
        "# batchsize 32, epoch 20, Test Accracy \n",
        "# batchsize 64, epoch 5 , Test Accuracy 99.16%\n",
        "\n",
        "model.fit(trainXready, trainYready, batch_size=32, epochs=4)\n",
        "\n"
      ],
      "execution_count": 0,
      "outputs": []
    },
    {
      "metadata": {
        "id": "zmVmbciJMv2o",
        "colab_type": "code",
        "colab": {}
      },
      "cell_type": "code",
      "source": [
        "\n",
        "testLoss, testAccuracy = model.evaluate(testXready,testYready)\n",
        "\n",
        "print(\"Test Accuracy : \" + str(testAccuracy) )"
      ],
      "execution_count": 0,
      "outputs": []
    }
  ]
}